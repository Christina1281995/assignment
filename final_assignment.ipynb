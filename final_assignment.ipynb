{
 "cells": [
  {
   "attachments": {},
   "cell_type": "markdown",
   "metadata": {},
   "source": [
    "##### 0. Imports"
   ]
  },
  {
   "cell_type": "code",
   "execution_count": 1,
   "metadata": {},
   "outputs": [
    {
     "name": "stderr",
     "output_type": "stream",
     "text": [
      "c:\\Users\\Christina\\anaconda3\\envs\\lesson\\lib\\site-packages\\tqdm\\auto.py:21: TqdmWarning: IProgress not found. Please update jupyter and ipywidgets. See https://ipywidgets.readthedocs.io/en/stable/user_install.html\n",
      "  from .autonotebook import tqdm as notebook_tqdm\n"
     ]
    }
   ],
   "source": [
    "# Import the required packages here\n",
    "#import tensorflow as tf\n",
    "import torch\n",
    "from transformers import AutoModelForSequenceClassification\n",
    "from transformers import TFAutoModelForSequenceClassification\n",
    "from transformers import AutoTokenizer, AutoConfig\n",
    "\n",
    "import numpy as np\n",
    "from scipy.special import softmax\n",
    "import csv\n",
    "import urllib.request\n",
    "import pandas as pd                                                    # for data handling\n",
    "import xml.etree.cElementTree as ET                                    # for parsing XML file\n",
    "\n",
    "import matplotlib.pyplot as plt\n",
    "%matplotlib inline\n",
    "\n",
    "import mapclassify                                                     # required for animated scatterplot map (plotly)\n",
    "import geopandas as gpd                                                # geographic data handling\n",
    "import folium                                                          # interactive mapping capabilities\n",
    "import folium.plugins as plugins\n",
    "import plpygis                                                         # a converter to and from the PostGIS geometry types, WKB, GeoJSON and Shapely formats\n",
    "from plpygis import Geometry\n",
    "from shapely.geometry import Point, Polygon, shape                     # creating geospatial data\n",
    "from shapely import wkb, wkt                                           # creating and parsing geospatial data\n",
    "import shapely                                                  \n",
    "\n",
    "import plotly\n",
    "import plotly.express as px                                            # for interactive, animated timeseries map\n",
    "import seaborn as sns; sns.set(style=\"ticks\", color_codes=True)\n",
    "# import json\n",
    "\n",
    "from wordcloud import WordCloud\n",
    "from wordcloud import ImageColorGenerator\n",
    "from wordcloud import STOPWORDS\n",
    "from PIL import Image    # for masking wordcloud with an image\n",
    "import requests          # for accessing url image\n",
    "from io import BytesIO   # for accedssing url image\n"
   ]
  },
  {
   "attachments": {},
   "cell_type": "markdown",
   "metadata": {},
   "source": [
    "### Task 1: Data Preparation"
   ]
  },
  {
   "attachments": {},
   "cell_type": "markdown",
   "metadata": {},
   "source": [
    "To get started with any kind of geospatial analysis of textual data, you will first need to import the data and prepare it for any further analyses. These steps are very common and you will likely have to perform these steps any time you want to do a similar analysis on your own or with different data. "
   ]
  },
  {
   "attachments": {},
   "cell_type": "markdown",
   "metadata": {},
   "source": [
    "##### 1. Get the data"
   ]
  },
  {
   "attachments": {},
   "cell_type": "markdown",
   "metadata": {},
   "source": [
    "There are several ways you can get data for analysis. Twitter data can be publicly accessed .... . In this case we will access a CSV file that already contain a bunch of tweets. Download the data from https://drive.google.com/file/d/1hHkde7xSGNlemYRw6yFFj5RfRfAGbFHS/view?usp=share_link and add it to this repository."
   ]
  },
  {
   "attachments": {},
   "cell_type": "markdown",
   "metadata": {},
   "source": [
    "##### 2. Load the data into a pandas DataFrame"
   ]
  },
  {
   "cell_type": "code",
   "execution_count": null,
   "metadata": {},
   "outputs": [],
   "source": [
    "# Load the data using the pandas function .read_csv()\n",
    "# hint: you may have to specify the correct encoding of csv so that the pandas library can read the data properly\n"
   ]
  },
  {
   "cell_type": "code",
   "execution_count": 14,
   "metadata": {},
   "outputs": [],
   "source": [
    "# ------------------------------- SOLUTION -------------------------------\n",
    "# Load the data\n",
    "data = pd.read_csv('twittertakeover.csv', encoding='latin1')"
   ]
  },
  {
   "attachments": {},
   "cell_type": "markdown",
   "metadata": {},
   "source": [
    "##### 3. Take a first look at the data"
   ]
  },
  {
   "attachments": {},
   "cell_type": "markdown",
   "metadata": {},
   "source": [
    "- Check how large the dataset is\n",
    "- Take a look at what kind of columns we have\n",
    "- Check the data types"
   ]
  },
  {
   "cell_type": "code",
   "execution_count": null,
   "metadata": {},
   "outputs": [],
   "source": [
    "# Check how large the dataset is: print out how many rows there are\n"
   ]
  },
  {
   "cell_type": "code",
   "execution_count": null,
   "metadata": {},
   "outputs": [],
   "source": [
    "# Print the names of the columns"
   ]
  },
  {
   "cell_type": "code",
   "execution_count": null,
   "metadata": {},
   "outputs": [],
   "source": [
    "# Check the datatypes for each of the columns"
   ]
  },
  {
   "cell_type": "code",
   "execution_count": 15,
   "metadata": {},
   "outputs": [
    {
     "name": "stdout",
     "output_type": "stream",
     "text": [
      "97662\n"
     ]
    }
   ],
   "source": [
    "# ------------------------------- SOLUTION -------------------------------\n",
    "# Check how large the dataset is: print out how many rows there are\n",
    "print(len(data))"
   ]
  },
  {
   "cell_type": "code",
   "execution_count": 16,
   "metadata": {},
   "outputs": [
    {
     "data": {
      "text/plain": [
       "Index(['message_id', 'date', 'text', 'tags', 'tweet_lang', 'source', 'place',\n",
       "       'geom', 'retweets', 'tweet_favorites', 'photo_url', 'quoted_status_id',\n",
       "       'user_id', 'user_name', 'user_location', 'followers', 'friends',\n",
       "       'user_favorites', 'status', 'user_lang', 'latitude', 'longitude',\n",
       "       'data_source', 'keywords', 'sentiment', 'county_id', 'tweet_integer',\n",
       "       'tweet_positive', 'tweet_negative'],\n",
       "      dtype='object')"
      ]
     },
     "execution_count": 16,
     "metadata": {},
     "output_type": "execute_result"
    }
   ],
   "source": [
    "# ------------------------------- SOLUTION -------------------------------\n",
    "# Print the names of the columns\n",
    "data.columns"
   ]
  },
  {
   "cell_type": "code",
   "execution_count": 17,
   "metadata": {},
   "outputs": [
    {
     "data": {
      "text/plain": [
       "message_id          float64\n",
       "date                 object\n",
       "text                 object\n",
       "tags                 object\n",
       "tweet_lang           object\n",
       "source               object\n",
       "place                object\n",
       "geom                 object\n",
       "retweets              int64\n",
       "tweet_favorites       int64\n",
       "photo_url            object\n",
       "quoted_status_id    float64\n",
       "user_id             float64\n",
       "user_name            object\n",
       "user_location        object\n",
       "followers             int64\n",
       "friends               int64\n",
       "user_favorites        int64\n",
       "status                int64\n",
       "user_lang           float64\n",
       "latitude            float64\n",
       "longitude           float64\n",
       "data_source          object\n",
       "keywords               bool\n",
       "sentiment            object\n",
       "county_id             int64\n",
       "tweet_integer         int64\n",
       "tweet_positive      float64\n",
       "tweet_negative      float64\n",
       "dtype: object"
      ]
     },
     "execution_count": 17,
     "metadata": {},
     "output_type": "execute_result"
    }
   ],
   "source": [
    "# ------------------------------- SOLUTION -------------------------------\n",
    "# Check the datatypes for each of the columns\n",
    "data.dtypes"
   ]
  },
  {
   "attachments": {},
   "cell_type": "markdown",
   "metadata": {},
   "source": [
    "##### 4. Create a geodataframe"
   ]
  },
  {
   "attachments": {},
   "cell_type": "markdown",
   "metadata": {},
   "source": [
    "This is a crucial part of the data preparation: we need to be able to work with the spatial characteristics of this data. As you will have seen in the data types, the \"geom\" column is an 'object' type. To do any geospatial analyses we need to convert this DataFrame into a GeoDataFrame. "
   ]
  },
  {
   "attachments": {},
   "cell_type": "markdown",
   "metadata": {},
   "source": [
    "Let's first take a look at what the \"geom\" column looks like. Here is the \"geom\" value of the first row in our dataset:"
   ]
  },
  {
   "cell_type": "code",
   "execution_count": 18,
   "metadata": {},
   "outputs": [
    {
     "data": {
      "text/plain": [
       "'POLYGON ((-121.4168716 37.883347, -121.183979 37.883347, -121.183979 38.078305, -121.4168716 38.078305, -121.4168716 37.883347))'"
      ]
     },
     "execution_count": 18,
     "metadata": {},
     "output_type": "execute_result"
    }
   ],
   "source": [
    "# Take a look at the \"geom\" values \n",
    "data.loc[0, 'geom']"
   ]
  },
  {
   "attachments": {},
   "cell_type": "markdown",
   "metadata": {},
   "source": [
    "This is a representation of a polygon using the <b>Well-Known Text (WKT)</b> format. WKT is a text-based representation of geometry objects, defined by the Open Geospatial Consortium (OGC)."
   ]
  },
  {
   "attachments": {},
   "cell_type": "markdown",
   "metadata": {},
   "source": [
    "There are two key steps involved in the conversion of this text-based representation to an actual geometry data type:\n",
    "1. Convert the WKT strings into shapely ```'Polygon'``` objects. This is done by using the shapely ```.apply(wkt.loads)``` function on the \"geom\" column.\n",
    "2. Use the ```GeoDataFrame``` constructor from the ```geopandas``` library to create a geodataframe. Make sure to specify the coordinate reference system as \"EPSG:4326\""
   ]
  },
  {
   "cell_type": "code",
   "execution_count": null,
   "metadata": {},
   "outputs": [],
   "source": [
    "# Create a new column in the dataframe called \"geometry\" by converting the 'geom' column to shapely Polygon objects \n",
    "data['geometry'] = \n",
    "\n",
    "# create a geodataframe from the pandas dataframe\n",
    "geodata = "
   ]
  },
  {
   "cell_type": "code",
   "execution_count": 19,
   "metadata": {},
   "outputs": [],
   "source": [
    "# ------------------------------- SOLUTION -------------------------------\n",
    "\n",
    "# convert the 'geom' column to shapely Polygon objects\n",
    "data['geometry'] = data['geom'].apply(wkt.loads)\n",
    "\n",
    "# create a geodataframe from the pandas dataframe\n",
    "geodata = gpd.GeoDataFrame(data, crs='EPSG:4326')"
   ]
  },
  {
   "attachments": {},
   "cell_type": "markdown",
   "metadata": {},
   "source": [
    "Let's check what kind of geodatatypes we have"
   ]
  },
  {
   "cell_type": "code",
   "execution_count": 24,
   "metadata": {},
   "outputs": [
    {
     "name": "stdout",
     "output_type": "stream",
     "text": [
      "Polygon    96509\n",
      "Point       1153\n",
      "Name: count, dtype: int64\n"
     ]
    }
   ],
   "source": [
    "# ------------------------------- SOLUTION -------------------------------\n",
    "print(geodata.geom_type.value_counts())"
   ]
  },
  {
   "attachments": {},
   "cell_type": "markdown",
   "metadata": {},
   "source": [
    "Let's make sure we only have points. One way of doing this is by turning all polygons into points, where the point is the polygon's center."
   ]
  },
  {
   "cell_type": "code",
   "execution_count": 26,
   "metadata": {},
   "outputs": [],
   "source": [
    "# ------------------------------- SOLUTION -------------------------------\n",
    "\n",
    "# Create a new column called \"geom_type\"\n",
    "geodata['geom_type'] = geodata['geometry'].apply(lambda x: x.geom_type)\n",
    "\n",
    "# Iterate over each row in the geodataframe\n",
    "for index, row in geodata.iterrows():\n",
    "    # Check if the row is a Polygon\n",
    "    if row['geom_type'] == 'Polygon':\n",
    "        # Get the centroid of the polygon\n",
    "        centroid = row['geometry'].centroid\n",
    "        # Create a new Point geometry from the centroid\n",
    "        point_geom = Point(centroid.x, centroid.y)\n",
    "        # Update the geometry of the row with the new Point geometry\n",
    "        geodata.at[index, 'geometry'] = point_geom\n",
    "        # Update the geom_type of the row to 'Point'\n",
    "        geodata.at[index, 'geom_type'] = 'Point'\n"
   ]
  },
  {
   "attachments": {},
   "cell_type": "markdown",
   "metadata": {},
   "source": [
    "Now let's just make sure we have successfully converted all our geometries into points:"
   ]
  },
  {
   "cell_type": "code",
   "execution_count": 27,
   "metadata": {},
   "outputs": [
    {
     "name": "stdout",
     "output_type": "stream",
     "text": [
      "Point    97662\n",
      "Name: count, dtype: int64\n"
     ]
    }
   ],
   "source": [
    "# ------------------------------- SOLUTION -------------------------------\n",
    "print(geodata.geom_type.value_counts())"
   ]
  },
  {
   "attachments": {},
   "cell_type": "markdown",
   "metadata": {},
   "source": [
    "##### 5. Filter the data by relevant columns"
   ]
  },
  {
   "attachments": {},
   "cell_type": "markdown",
   "metadata": {},
   "source": [
    "##### 6. Filter the data by location"
   ]
  },
  {
   "attachments": {},
   "cell_type": "markdown",
   "metadata": {},
   "source": [
    "<img src=\"https://github.com/Christina1281995/demo-repo/blob/main/nyc.PNG?raw=true\" align=\"right\">\n",
    "\n",
    "Now that we have a geodataframe, we are almost ready to go. The last preparation step will be to <b>filter</b> our data for only the relevant data that we are interested in. \n",
    "\n",
    "Specifically, we are interested only in a small area: <b>New York City</b>. \n",
    "\n",
    "To filter the data by a certain area, we need a shapefile of that area.  Take a look <u>[here](https://geodata.lib.utexas.edu/catalog/nyu-2451-34490)</u> at the shapefile we will be using.\n",
    "\n",
    "Download the shapefile from the link provided above. Store <u>all</u> of the files you have downloaded in a new folder in this repository. "
   ]
  },
  {
   "cell_type": "code",
   "execution_count": 34,
   "metadata": {},
   "outputs": [],
   "source": [
    "# ------------------------------- SOLUTION -------------------------------\n",
    "\n",
    "# Read in the boundary of New York City\n",
    "nyc = gpd.read_file(\"new york/nyc.shp\")\n",
    "\n",
    "# Reproject nyc to the common CRS\n",
    "nyc = nyc.to_crs(\"EPSG:4326\")"
   ]
  },
  {
   "cell_type": "code",
   "execution_count": 35,
   "metadata": {},
   "outputs": [
    {
     "name": "stdout",
     "output_type": "stream",
     "text": [
      "1235\n"
     ]
    }
   ],
   "source": [
    "# ------------------------------- SOLUTION -------------------------------\n",
    "\n",
    "# Filter your geodataframe by the boundary of New York City\n",
    "filtered_gdf = gpd.overlay(geodata, nyc, how='intersection')\n",
    "\n",
    "print(len(filtered_gdf))"
   ]
  },
  {
   "cell_type": "code",
   "execution_count": 36,
   "metadata": {},
   "outputs": [
    {
     "data": {
      "text/html": [
       "<div>\n",
       "<style scoped>\n",
       "    .dataframe tbody tr th:only-of-type {\n",
       "        vertical-align: middle;\n",
       "    }\n",
       "\n",
       "    .dataframe tbody tr th {\n",
       "        vertical-align: top;\n",
       "    }\n",
       "\n",
       "    .dataframe thead th {\n",
       "        text-align: right;\n",
       "    }\n",
       "</style>\n",
       "<table border=\"1\" class=\"dataframe\">\n",
       "  <thead>\n",
       "    <tr style=\"text-align: right;\">\n",
       "      <th></th>\n",
       "      <th>message_id</th>\n",
       "      <th>date</th>\n",
       "      <th>text</th>\n",
       "      <th>tags</th>\n",
       "      <th>tweet_lang</th>\n",
       "      <th>source</th>\n",
       "      <th>place</th>\n",
       "      <th>geom</th>\n",
       "      <th>retweets</th>\n",
       "      <th>tweet_favorites</th>\n",
       "      <th>...</th>\n",
       "      <th>county_id</th>\n",
       "      <th>tweet_integer</th>\n",
       "      <th>tweet_positive</th>\n",
       "      <th>tweet_negative</th>\n",
       "      <th>geom_type</th>\n",
       "      <th>bcode</th>\n",
       "      <th>bname</th>\n",
       "      <th>name</th>\n",
       "      <th>namelsad</th>\n",
       "      <th>geometry</th>\n",
       "    </tr>\n",
       "  </thead>\n",
       "  <tbody>\n",
       "    <tr>\n",
       "      <th>0</th>\n",
       "      <td>1.581480e+18</td>\n",
       "      <td>16/10/2022 02:46</td>\n",
       "      <td>Do you remember when you joined Twitter? I do!...</td>\n",
       "      <td>MyTwitterAnniversary</td>\n",
       "      <td>en</td>\n",
       "      <td>&lt;a href=\"http://twitter.com/download/android\" ...</td>\n",
       "      <td>Metropolitan Hospital Center</td>\n",
       "      <td>POLYGON ((-73.944941 40.784863, -73.944941 40....</td>\n",
       "      <td>0</td>\n",
       "      <td>0</td>\n",
       "      <td>...</td>\n",
       "      <td>402</td>\n",
       "      <td>1</td>\n",
       "      <td>1.0</td>\n",
       "      <td>NaN</td>\n",
       "      <td>Point</td>\n",
       "      <td>36061</td>\n",
       "      <td>Manhattan</td>\n",
       "      <td>New York</td>\n",
       "      <td>New York County</td>\n",
       "      <td>POINT (-73.94494 40.78486)</td>\n",
       "    </tr>\n",
       "    <tr>\n",
       "      <th>1</th>\n",
       "      <td>1.593110e+18</td>\n",
       "      <td>17/11/2022 05:06</td>\n",
       "      <td>Thank you @oxbakerjr #OxBakerJr for follow me ...</td>\n",
       "      <td>OxBakerJr</td>\n",
       "      <td>en</td>\n",
       "      <td>&lt;a href=\"http://instagram.com\" rel=\"nofollow\"&gt;...</td>\n",
       "      <td>Manhattan, NY</td>\n",
       "      <td>POINT (-73.946794 40.809148)</td>\n",
       "      <td>0</td>\n",
       "      <td>0</td>\n",
       "      <td>...</td>\n",
       "      <td>402</td>\n",
       "      <td>1</td>\n",
       "      <td>1.0</td>\n",
       "      <td>NaN</td>\n",
       "      <td>Point</td>\n",
       "      <td>36061</td>\n",
       "      <td>Manhattan</td>\n",
       "      <td>New York</td>\n",
       "      <td>New York County</td>\n",
       "      <td>POINT (-73.94679 40.80915)</td>\n",
       "    </tr>\n",
       "    <tr>\n",
       "      <th>2</th>\n",
       "      <td>1.580590e+18</td>\n",
       "      <td>13/10/2022 15:50</td>\n",
       "      <td>Loved celebrating #sonographerappreciationmont...</td>\n",
       "      <td>sonographerappreciationmonth,MedicalUltrasound...</td>\n",
       "      <td>en</td>\n",
       "      <td>&lt;a href=\"http://twitter.com/download/iphone\" r...</td>\n",
       "      <td>Alison</td>\n",
       "      <td>POLYGON ((-73.947016 40.790971, -73.947016 40....</td>\n",
       "      <td>0</td>\n",
       "      <td>0</td>\n",
       "      <td>...</td>\n",
       "      <td>402</td>\n",
       "      <td>1</td>\n",
       "      <td>1.0</td>\n",
       "      <td>NaN</td>\n",
       "      <td>Point</td>\n",
       "      <td>36061</td>\n",
       "      <td>Manhattan</td>\n",
       "      <td>New York</td>\n",
       "      <td>New York County</td>\n",
       "      <td>POINT (-73.94702 40.79097)</td>\n",
       "    </tr>\n",
       "    <tr>\n",
       "      <th>3</th>\n",
       "      <td>1.593630e+18</td>\n",
       "      <td>18/11/2022 15:40</td>\n",
       "      <td>Well Twitter is still here &amp; so are we! Its g...</td>\n",
       "      <td>NaN</td>\n",
       "      <td>en</td>\n",
       "      <td>&lt;a href=\"http://twitter.com/download/iphone\" r...</td>\n",
       "      <td>Upper East Side, Manhattan</td>\n",
       "      <td>POLYGON ((-73.97299700000001 40.758656, -73.97...</td>\n",
       "      <td>0</td>\n",
       "      <td>0</td>\n",
       "      <td>...</td>\n",
       "      <td>402</td>\n",
       "      <td>1</td>\n",
       "      <td>1.0</td>\n",
       "      <td>NaN</td>\n",
       "      <td>Point</td>\n",
       "      <td>36061</td>\n",
       "      <td>Manhattan</td>\n",
       "      <td>New York</td>\n",
       "      <td>New York County</td>\n",
       "      <td>POINT (-73.96056 40.77043)</td>\n",
       "    </tr>\n",
       "    <tr>\n",
       "      <th>4</th>\n",
       "      <td>1.585380e+18</td>\n",
       "      <td>26/10/2022 21:12</td>\n",
       "      <td>A special field trip to the HF office to wish ...</td>\n",
       "      <td>CardioTwitter</td>\n",
       "      <td>en</td>\n",
       "      <td>&lt;a href=\"http://twitter.com/download/iphone\" r...</td>\n",
       "      <td>The Mount Sinai Hospital</td>\n",
       "      <td>POLYGON ((-73.952957 40.79011, -73.952957 40.7...</td>\n",
       "      <td>0</td>\n",
       "      <td>0</td>\n",
       "      <td>...</td>\n",
       "      <td>402</td>\n",
       "      <td>1</td>\n",
       "      <td>1.0</td>\n",
       "      <td>NaN</td>\n",
       "      <td>Point</td>\n",
       "      <td>36061</td>\n",
       "      <td>Manhattan</td>\n",
       "      <td>New York</td>\n",
       "      <td>New York County</td>\n",
       "      <td>POINT (-73.95296 40.79011)</td>\n",
       "    </tr>\n",
       "  </tbody>\n",
       "</table>\n",
       "<p>5 rows × 35 columns</p>\n",
       "</div>"
      ],
      "text/plain": [
       "     message_id              date   \n",
       "0  1.581480e+18  16/10/2022 02:46  \\\n",
       "1  1.593110e+18  17/11/2022 05:06   \n",
       "2  1.580590e+18  13/10/2022 15:50   \n",
       "3  1.593630e+18  18/11/2022 15:40   \n",
       "4  1.585380e+18  26/10/2022 21:12   \n",
       "\n",
       "                                                text   \n",
       "0  Do you remember when you joined Twitter? I do!...  \\\n",
       "1  Thank you @oxbakerjr #OxBakerJr for follow me ...   \n",
       "2  Loved celebrating #sonographerappreciationmont...   \n",
       "3  Well Twitter is still here & so are we! Its g...   \n",
       "4  A special field trip to the HF office to wish ...   \n",
       "\n",
       "                                                tags tweet_lang   \n",
       "0                               MyTwitterAnniversary         en  \\\n",
       "1                                          OxBakerJr         en   \n",
       "2  sonographerappreciationmonth,MedicalUltrasound...         en   \n",
       "3                                                NaN         en   \n",
       "4                                      CardioTwitter         en   \n",
       "\n",
       "                                              source   \n",
       "0  <a href=\"http://twitter.com/download/android\" ...  \\\n",
       "1  <a href=\"http://instagram.com\" rel=\"nofollow\">...   \n",
       "2  <a href=\"http://twitter.com/download/iphone\" r...   \n",
       "3  <a href=\"http://twitter.com/download/iphone\" r...   \n",
       "4  <a href=\"http://twitter.com/download/iphone\" r...   \n",
       "\n",
       "                          place   \n",
       "0  Metropolitan Hospital Center  \\\n",
       "1                 Manhattan, NY   \n",
       "2                        Alison   \n",
       "3    Upper East Side, Manhattan   \n",
       "4      The Mount Sinai Hospital   \n",
       "\n",
       "                                                geom  retweets   \n",
       "0  POLYGON ((-73.944941 40.784863, -73.944941 40....         0  \\\n",
       "1                       POINT (-73.946794 40.809148)         0   \n",
       "2  POLYGON ((-73.947016 40.790971, -73.947016 40....         0   \n",
       "3  POLYGON ((-73.97299700000001 40.758656, -73.97...         0   \n",
       "4  POLYGON ((-73.952957 40.79011, -73.952957 40.7...         0   \n",
       "\n",
       "   tweet_favorites  ... county_id  tweet_integer  tweet_positive   \n",
       "0                0  ...       402              1             1.0  \\\n",
       "1                0  ...       402              1             1.0   \n",
       "2                0  ...       402              1             1.0   \n",
       "3                0  ...       402              1             1.0   \n",
       "4                0  ...       402              1             1.0   \n",
       "\n",
       "  tweet_negative geom_type  bcode      bname      name         namelsad   \n",
       "0            NaN     Point  36061  Manhattan  New York  New York County  \\\n",
       "1            NaN     Point  36061  Manhattan  New York  New York County   \n",
       "2            NaN     Point  36061  Manhattan  New York  New York County   \n",
       "3            NaN     Point  36061  Manhattan  New York  New York County   \n",
       "4            NaN     Point  36061  Manhattan  New York  New York County   \n",
       "\n",
       "                     geometry  \n",
       "0  POINT (-73.94494 40.78486)  \n",
       "1  POINT (-73.94679 40.80915)  \n",
       "2  POINT (-73.94702 40.79097)  \n",
       "3  POINT (-73.96056 40.77043)  \n",
       "4  POINT (-73.95296 40.79011)  \n",
       "\n",
       "[5 rows x 35 columns]"
      ]
     },
     "execution_count": 36,
     "metadata": {},
     "output_type": "execute_result"
    }
   ],
   "source": [
    "# ------------------------------- SOLUTION -------------------------------\n",
    "\n",
    "# View the filtered geodataframe\n",
    "filtered_gdf.head()"
   ]
  },
  {
   "attachments": {},
   "cell_type": "markdown",
   "metadata": {},
   "source": [
    "### Task 2: Exploratory Data Analysis"
   ]
  },
  {
   "attachments": {},
   "cell_type": "markdown",
   "metadata": {},
   "source": [
    "### Task 3: Choose an appropriate NLP Model for your Analysis"
   ]
  },
  {
   "attachments": {},
   "cell_type": "markdown",
   "metadata": {},
   "source": [
    "### Task 4: Plot the Analysis Results on a Map"
   ]
  },
  {
   "attachments": {},
   "cell_type": "markdown",
   "metadata": {},
   "source": [
    "### Task 5: Interpret the Results"
   ]
  }
 ],
 "metadata": {
  "kernelspec": {
   "display_name": "lesson",
   "language": "python",
   "name": "python3"
  },
  "language_info": {
   "codemirror_mode": {
    "name": "ipython",
    "version": 3
   },
   "file_extension": ".py",
   "mimetype": "text/x-python",
   "name": "python",
   "nbconvert_exporter": "python",
   "pygments_lexer": "ipython3",
   "version": "3.9.16"
  },
  "orig_nbformat": 4
 },
 "nbformat": 4,
 "nbformat_minor": 2
}
